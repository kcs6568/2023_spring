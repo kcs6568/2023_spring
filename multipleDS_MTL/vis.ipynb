{
 "cells": [
  {
   "cell_type": "code",
   "execution_count": null,
   "metadata": {},
   "outputs": [
    {
     "ename": "",
     "evalue": "",
     "output_type": "error",
     "traceback": [
      "\u001b[1;31mRunning cells with 'base' requires the ipykernel package.\n",
      "\u001b[1;31mRun the following command to install 'ipykernel' into the Python environment. \n",
      "\u001b[1;31mCommand: 'conda install -n base ipykernel --update-deps --force-reinstall'"
     ]
    }
   ],
   "source": [
    "import torch\n",
    "from torchviz import make_dot\n",
    "\n",
    "# Create tensors\n",
    "x1 = torch.tensor(1.5, requires_grad=True)\n",
    "x2 = torch.tensor(0.5, requires_grad=True)\n",
    "c = torch.tensor(1., requires_grad=True)\n",
    "\n",
    "# Build a computational graph\n",
    "y=(torch.sin(x2)+c)/(x2+torch.exp(x1))+x1*x2\n",
    "y.backward() # compute gradients\n",
    "\n",
    "print(x1.grad)\n",
    "print(x2.grad)\n",
    "print(c.grad)\n",
    "\n",
    "params = {'x1': x1, 'x2':x2, 'c': c}\n",
    "param_map = {id(v): k for k, v in params.items()}\n",
    "param_map\n",
    "\n",
    "make_dot(y, {'x1': x1, 'x2':x2, 'c': c})"
   ]
  }
 ],
 "metadata": {
  "kernelspec": {
   "display_name": "Python 3.7.10 ('base')",
   "language": "python",
   "name": "python3"
  },
  "language_info": {
   "codemirror_mode": {
    "name": "ipython",
    "version": 3
   },
   "file_extension": ".py",
   "mimetype": "text/x-python",
   "name": "python",
   "nbconvert_exporter": "python",
   "pygments_lexer": "ipython3",
   "version": "3.7.10"
  },
  "orig_nbformat": 4,
  "vscode": {
   "interpreter": {
    "hash": "d4d1e4263499bec80672ea0156c357c1ee493ec2b1c70f0acce89fc37c4a6abe"
   }
  }
 },
 "nbformat": 4,
 "nbformat_minor": 2
}
